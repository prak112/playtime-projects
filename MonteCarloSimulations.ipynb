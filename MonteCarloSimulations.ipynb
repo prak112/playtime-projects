{
 "cells": [
  {
   "cell_type": "markdown",
   "metadata": {},
   "source": [
    "A Monte Carlo method is a technique that uses random numbers and probability to solve complex problems. The Monte Carlo simulation, or probability simulation, is a technique used to understand the impact of risk and uncertainty.\n",
    "\n",
    "The Monte Carlo simulation allows us to see all the possible outcomes of our decisions and assess risk impact, in consequence allowing better decision making under uncertainty."
   ]
  },
  {
   "cell_type": "markdown",
   "metadata": {},
   "source": [
    "Simulation1_CoinFlip"
   ]
  },
  {
   "cell_type": "code",
   "execution_count": 1,
   "metadata": {},
   "outputs": [],
   "source": [
    "#Import libraries\n",
    "import random\n",
    "import numpy as np\n",
    "import matplotlib.pyplot as plt"
   ]
  },
  {
   "cell_type": "code",
   "execution_count": 48,
   "metadata": {},
   "outputs": [],
   "source": [
    "#Defining MonteCarlo simulation for coin_flip\n",
    "def mc_coin(n):\n",
    "    \"\"\"Performs n number of MonteCarlo simulations/ Probability siumulations\n",
    "    Args: n - number of iterations, int\n",
    "    Returns: probability values of Heads and tails for n number of coin flips, list\n",
    "    \"\"\"    \n",
    "\n",
    "    # Collecting probability values of Heads and Tails\n",
    "    prob_T = []\n",
    "    flip_result = 0\n",
    "    \n",
    "    #flipping and calculating probability\n",
    "    for i in range(n):\n",
    "        #Flipping coin: Heads = 0, Tails = 1\n",
    "        coin_flip = random.randint(0,1)\n",
    "        flip_result += coin_flip\n",
    "        \n",
    "        #Defining probability of Tails from every event\n",
    "        prob = (flip_result)/(i+1)\n",
    "        prob_T.append(prob)\n",
    "    \n",
    "    #Heads probability\n",
    "    prob_H = [1-p for p in prob_T]\n",
    "    \n",
    "    return prob_T, prob_H\n"
   ]
  },
  {
   "cell_type": "code",
   "execution_count": 53,
   "metadata": {},
   "outputs": [],
   "source": [
    "#plotting probability values for Heads and Tails after n number of simulations\n",
    "def plot_mc_coin(prob_T, prob_H):\n",
    "    \"\"\"Takes the listed proababilities of Heads and Tails and returns a graphical visualization of probabilities during n simulations\n",
    "    Args: prob_T - tails probability, list\n",
    "          prob_H - heads probability, list\n",
    "    Return: Graphical plot of probabilities during n simulations\n",
    "    \"\"\"\n",
    "    plt.axhline(y=0.5, color='black', label='Theoretical Probability')\n",
    "    plt.plot(prob_T, color='r', label='Practical_Tails probability', alpha=0.3)\n",
    "    plt.plot(prob_H, color='g', label='Practical_Heads probability', alpha=0.3)\n",
    "    plt.xlabel('Iterations')\n",
    "    plt.ylabel('Probability')\n",
    "    plt.legend()\n",
    "    plt.show()\n"
   ]
  },
  {
   "cell_type": "code",
   "execution_count": 56,
   "metadata": {},
   "outputs": [
    {
     "data": {
      "image/png": "[encoded data removed]",
      "text/plain": [
       "<Figure size 432x288 with 1 Axes>"
      ]
     },
     "metadata": {
      "needs_background": "light"
     },
     "output_type": "display_data"
    },
    {
     "name": "stdout",
     "output_type": "stream",
     "text": [
      "Final Probability of Tails: 0.5022\n",
      "Final probability of Heads: 0.4978\n"
     ]
    }
   ],
   "source": [
    "n = 100\n",
    "t, h = mc_coin(n)\n",
    "plot_mc_coin(t, h)\n",
    "print('Final Probability of Tails: {}\\nFinal probability of Heads: {}'.format(t[-1], h[-1]))"
   ]
  },
  {
   "cell_type": "code",
   "execution_count": null,
   "metadata": {},
   "outputs": [],
   "source": []
  },
  {
   "cell_type": "code",
   "execution_count": null,
   "metadata": {},
   "outputs": [],
   "source": []
  },
  {
   "cell_type": "code",
   "execution_count": null,
   "metadata": {},
   "outputs": [],
   "source": []
  },
  {
   "cell_type": "code",
   "execution_count": null,
   "metadata": {},
   "outputs": [],
   "source": []
  },
  {
   "cell_type": "code",
   "execution_count": null,
   "metadata": {},
   "outputs": [],
   "source": []
  },
  {
   "cell_type": "code",
   "execution_count": null,
   "metadata": {},
   "outputs": [],
   "source": []
  },
  {
   "cell_type": "code",
   "execution_count": null,
   "metadata": {},
   "outputs": [],
   "source": []
  }
 ],
 "metadata": {
  "kernelspec": {
   "display_name": "Python 3",
   "language": "python",
   "name": "python3"
  },
  "language_info": {
   "codemirror_mode": {
    "name": "ipython",
    "version": 3
   },
   "file_extension": ".py",
   "mimetype": "text/x-python",
   "name": "python",
   "nbconvert_exporter": "python",
   "pygments_lexer": "ipython3",
   "version": "3.8.5"
  }
 },
 "nbformat": 4,
 "nbformat_minor": 4
}
